{
 "cells": [
  {
   "cell_type": "code",
   "execution_count": 3,
   "metadata": {},
   "outputs": [
    {
     "name": "stderr",
     "output_type": "stream",
     "text": [
      "/Users/disha.gupta1@ibm.com/anaconda/lib/python3.6/site-packages/sklearn/cross_validation.py:41: DeprecationWarning: This module was deprecated in version 0.18 in favor of the model_selection module into which all the refactored classes and functions are moved. Also note that the interface of the new CV iterators are different from that of this module. This module will be removed in 0.20.\n",
      "  \"This module will be removed in 0.20.\", DeprecationWarning)\n"
     ]
    }
   ],
   "source": [
    "# Load libraries\n",
    "from sklearn.ensemble import RandomForestClassifier\n",
    "from sklearn.model_selection import train_test_split\n",
    "from sklearn import cross_validation\n",
    "from sklearn import preprocessing\n",
    "from sklearn import metrics\n",
    "from sklearn import svm\n",
    "import datetime\n",
    "import pandas as pd\n",
    "import numpy as np\n",
    "from imblearn.ensemble import BalanceCascade\n",
    "from sklearn.model_selection import GridSearchCV\n",
    "import matplotlib.pyplot as plt\n",
    "from sklearn.externals import joblib\n",
    "import scipy"
   ]
  },
  {
   "cell_type": "code",
   "execution_count": 4,
   "metadata": {},
   "outputs": [],
   "source": [
    "All_Data=pd.read_csv('/Users/disha.gupta1@ibm.com/Desktop/BC Spills/Working/ALL_DATA_BC.csv', header=0)\n",
    "All_Data_Spills=pd.read_csv('/Users/disha.gupta1@ibm.com/Desktop/BC Spills/Working/VancouverSpillsLatLongFlag.csv', header=0)\n",
    "All_Data=All_Data.append(pd.DataFrame(data = All_Data_Spills), ignore_index=True)\n",
    "#for highway avg accidents\n",
    "All_Data.to_csv(\"ForHighwayAvgAccidents.csv\", sep=',',index=False)\n",
    "#All_Data[\"OBSERVATIONTIMEUTCISO\"]=All_Data[\"OBSERVATIONTIMEUTCISO\"].astype(str).str.replace(\"T\",\" \")"
   ]
  },
  {
   "cell_type": "code",
   "execution_count": 5,
   "metadata": {},
   "outputs": [],
   "source": [
    "All_Data=All_Data.sort_values(by='OBSERVATIONTIMEUTCISO1')\n",
    "All_Data['DATE'] = pd.to_datetime(All_Data[\"DATE\"]).dt.date\n",
    "All_Data['DAY'] = pd.to_datetime(All_Data[\"DATE\"]).dt.day.astype(int)\n",
    "All_Data['MONTH'] = pd.to_datetime(All_Data[\"DATE\"]).dt.month.astype(int)\n",
    "All_Data['YEAR'] = pd.to_datetime(All_Data[\"DATE\"]).dt.year.astype(int)\n",
    "All_Data['YEAR_DAY'] = pd.to_datetime(All_Data[\"DATE\"]).apply(lambda x: x.timetuple().tm_yday)\n",
    "All_Data.loc[All_Data['WINDGUST'].isnull(),'WINDGUST'] = All_Data['WINDSPEED']\n",
    "All_Data['BLIZZARD'] = All_Data['SNOW1HOUR']*All_Data['WINDSPEED']*All_Data['WINDSPEED']\n",
    "All_Data['FOG'] = 0\n",
    "All_Data.loc[All_Data['VISIBILITY']<=0.25, 'FOG'] = 1 "
   ]
  },
  {
   "cell_type": "code",
   "execution_count": 6,
   "metadata": {
    "collapsed": true
   },
   "outputs": [],
   "source": [
    "All_Data_Previous = pd.DataFrame(All_Data[[\"OBSERVATIONTIMEUTCISO\",\"SNOW1HOUR\",\"PRECIP1HOUR\",\"LATITUDE\",\"LONGITUDE\"]])\n",
    "All_Data_Previous[\"OBSERVATIONTIMEUTCISO\"]=pd.to_datetime(All_Data_Previous[\"OBSERVATIONTIMEUTCISO\"],format=\"%Y-%m-%d %H:%M:%S\")\n",
    "All_Data[\"PREVIOUSHOUR\"]=pd.to_datetime(All_Data[\"OBSERVATIONTIMEUTCISO\"]).apply(lambda x: x - datetime.timedelta(hours = 1))\n",
    "All_Data_Previous.columns = [\"PREVIOUSHOUR\", \"SNOW2HOUR\",\"PRECIP2HOUR\",\"LATITUDE\",\"LONGITUDE\"]\n",
    "All_Data = pd.merge(All_Data,All_Data_Previous,on=[\"PREVIOUSHOUR\",\"LATITUDE\",\"LONGITUDE\"],how=\"left\")"
   ]
  },
  {
   "cell_type": "code",
   "execution_count": 7,
   "metadata": {
    "collapsed": true
   },
   "outputs": [],
   "source": [
    "def SnowDriftIndex(df):\n",
    "    snowqpf=df['SNOW1HOUR']\n",
    "    temperature=df['TEMPERATURE']\n",
    "    Windspeed=df['WINDSPEED']\n",
    "    Tc = (temperature-32)*(5/9)\n",
    "    #Temperature Function\n",
    "    aT = (1710+13.6*Tc) #remove 10**-9 for scaling purposes\n",
    "    #Convert mph to M/s\n",
    "    Windspeedms = Windspeed*.44704\n",
    "    SDI = snowqpf*(np.power(Windspeedms,2)/aT)\n",
    "    #if temperature is greater than or equal to 40F no drifting will occur\n",
    "    SDI = np.array(SDI)\n",
    "    SDI[Tc>4] = 0\n",
    "    SDI = np.array(SDI)\n",
    "    SDI[SDI>1] = 1\n",
    "    SDI = np.array(SDI)\n",
    "    SDI[Windspeedms<8] = 0\n",
    "    #Threshold = aT/(np.power(Windspeedms,2)/aT) * .5\n",
    "    return SDI\n",
    "\n",
    "def BlackIceIndex(df):\n",
    "    qpf=df['PRECIP1HOUR']\n",
    "    snowqpf=df['SNOW1HOUR']\n",
    "    temperature=df['TEMPERATURE']\n",
    "    Windspeed=df['WINDSPEED']\n",
    "    TEMPERATUREFEELSLIKE=df['TEMPERATUREFEELSLIKE']\n",
    "    rh=df['RELATIVEHUMIDITY']\n",
    "    DayPeriod = np.where(df['HOUR']>21, 'N', 'D')\n",
    "    bool = ((qpf>0) & (TEMPERATUREFEELSLIKE<32) & \n",
    "            (snowqpf==0)) | ((temperature<32) & (TEMPERATUREFEELSLIKE<32) & (rh>95) & (DayPeriod==\"N\") &\n",
    "                             (Windspeed<5) & (qpf==0))\n",
    "    BlackIce = 1*bool\n",
    "    return BlackIce"
   ]
  },
  {
   "cell_type": "code",
   "execution_count": 8,
   "metadata": {
    "collapsed": true
   },
   "outputs": [],
   "source": [
    "All_Data['SNOWDRIFTINDEX']=All_Data.apply(SnowDriftIndex, axis=1)\n",
    "All_Data['BLACKICEINDEX']=All_Data.apply(BlackIceIndex, axis=1)"
   ]
  },
  {
   "cell_type": "code",
   "execution_count": 9,
   "metadata": {
    "collapsed": true
   },
   "outputs": [],
   "source": [
    "All_Data['WeatherFlag']=All_Data['Flag']\n",
    "All_Data.loc[(All_Data['PRECIP1HOUR']==0) &\n",
    "             (All_Data['PRECIP2HOUR']==0) &\n",
    "             (All_Data['SNOW2HOUR']==0) &\n",
    "             (All_Data['SNOW1HOUR']==0) &\n",
    "             (All_Data['VISIBILITY']>0.3) &\n",
    "             (All_Data['WINDGUST']<35),'WeatherFlag']=0"
   ]
  },
  {
   "cell_type": "code",
   "execution_count": 10,
   "metadata": {
    "scrolled": true
   },
   "outputs": [
    {
     "name": "stdout",
     "output_type": "stream",
     "text": [
      "Flag\n",
      "0.0     219488\n",
      "1.0         10\n",
      "2.0        108\n",
      "4.0         98\n",
      "6.0         50\n",
      "8.0         30\n",
      "10.0        24\n",
      "12.0         8\n",
      "14.0         7\n",
      "16.0         6\n",
      "18.0         4\n",
      "20.0         3\n",
      "22.0         2\n",
      "24.0         2\n",
      "26.0         1\n",
      "30.0         1\n",
      "32.0         1\n",
      "40.0         1\n",
      "42.0         1\n",
      "44.0         1\n",
      "Name: DATE, dtype: int64\n"
     ]
    }
   ],
   "source": [
    "#print(All_Data.groupby(\"WeatherFlag\").DATE.count())\n",
    "All_Data['Flag']=All_Data['WeatherFlag']\n",
    "print(All_Data.groupby(\"Flag\").DATE.count())"
   ]
  },
  {
   "cell_type": "code",
   "execution_count": 11,
   "metadata": {
    "collapsed": true
   },
   "outputs": [],
   "source": [
    "All_Data['Flag']=(All_Data['Flag']>=1).astype(int)"
   ]
  },
  {
   "cell_type": "code",
   "execution_count": 12,
   "metadata": {
    "collapsed": true
   },
   "outputs": [],
   "source": [
    "#All_Data.isnull().sum(axis=0)"
   ]
  },
  {
   "cell_type": "code",
   "execution_count": 29,
   "metadata": {
    "collapsed": true
   },
   "outputs": [],
   "source": [
    "columns = ['DATE',\"LATITUDE\",\"LONGITUDE\",'PRECIP1HOUR',\n",
    "       'PRESSURECHANGE', 'RELATIVEHUMIDITY', 'SNOW1HOUR', 'TEMPERATURE',\n",
    "       'TEMPERATUREDEWPOINT', 'TEMPERATUREFEELSLIKE',\n",
    "        'UVINDEX', 'VISIBILITY','SNOWDRIFTINDEX','BLACKICEINDEX',\n",
    "       'WINDSPEED','WINDGUST','BLIZZARD','FOG', \"NonWeatherRisk\",'HOUR','YEAR_DAY','MONTH','PRECIP2HOUR','SNOW2HOUR','Flag']\n",
    "\n",
    "df=All_Data[columns]"
   ]
  },
  {
   "cell_type": "code",
   "execution_count": 30,
   "metadata": {
    "collapsed": true,
    "scrolled": true
   },
   "outputs": [],
   "source": [
    "#df1=df.fillna(method='ffill', inplace = True)"
   ]
  },
  {
   "cell_type": "code",
   "execution_count": 32,
   "metadata": {},
   "outputs": [],
   "source": [
    "sin_HOUR = np.zeros(len(df))\n",
    "cos_HOUR = np.zeros(len(df))\n",
    "sin_YEAR_DAY = np.zeros(len(df))\n",
    "cos_YEAR_DAY = np.zeros(len(df))\n",
    "sin_MONTH = np.zeros(len(df))\n",
    "cos_MONTH = np.zeros(len(df))\n",
    "for i in range(len(df)):\n",
    "    sin_HOUR[i] = np.sin(((df['HOUR'][i]/24)*np.pi)/2)\n",
    "    cos_HOUR[i] = np.sin(((df['HOUR'][i]/24)*np.pi)/2)\n",
    "    sin_YEAR_DAY[i] = np.sin(((df['YEAR_DAY'][i]/365)*np.pi)/2)\n",
    "    cos_YEAR_DAY[i] = np.sin(((df['YEAR_DAY'][i]/365)*np.pi)/2)\n",
    "    sin_MONTH[i] = np.sin(((df['MONTH'][i]/12)*np.pi)/2)\n",
    "    cos_MONTH[i] = np.sin(((df['MONTH'][i]/12)*np.pi)/2)\n",
    "\n",
    "df=pd.DataFrame(df)\n",
    "df['sin_HOUR'] = sin_HOUR\n",
    "df['cos_HOUR'] = cos_HOUR\n",
    "\n",
    "df['sin_YEAR_DAY'] = sin_YEAR_DAY\n",
    "df['cos_YEAR_DAY'] = cos_YEAR_DAY\n",
    "\n",
    "df['sin_MONTH'] = sin_MONTH\n",
    "df['cos_MONTH'] = cos_MONTH"
   ]
  },
  {
   "cell_type": "code",
   "execution_count": 48,
   "metadata": {
    "collapsed": true
   },
   "outputs": [],
   "source": [
    "#Few values with NA for flag = 1, overall few too, drop na instead of imputing?\n",
    "df=df.dropna()"
   ]
  },
  {
   "cell_type": "code",
   "execution_count": 49,
   "metadata": {},
   "outputs": [
    {
     "name": "stdout",
     "output_type": "stream",
     "text": [
      "Flag\n",
      "0    211237\n",
      "1       326\n",
      "Name: DATE, dtype: int64\n"
     ]
    }
   ],
   "source": [
    "print(df.groupby(\"Flag\").DATE.count())"
   ]
  },
  {
   "cell_type": "code",
   "execution_count": 50,
   "metadata": {
    "collapsed": true
   },
   "outputs": [],
   "source": [
    "features = ['PRECIP1HOUR', 'RELATIVEHUMIDITY', 'SNOW1HOUR', 'TEMPERATURE',\n",
    "       'TEMPERATUREDEWPOINT', 'TEMPERATUREFEELSLIKE', 'VISIBILITY','SNOWDRIFTINDEX','BLACKICEINDEX',\n",
    "       'WINDSPEED','WINDGUST','BLIZZARD','FOG', \"NonWeatherRisk\", 'sin_HOUR','cos_HOUR','sin_YEAR_DAY','cos_YEAR_DAY',\n",
    "            'sin_MONTH','cos_MONTH','PRECIP2HOUR','SNOW2HOUR']\n",
    "df_features = df[features]"
   ]
  },
  {
   "cell_type": "code",
   "execution_count": 51,
   "metadata": {
    "collapsed": true
   },
   "outputs": [],
   "source": [
    "# create X and target vector y\n",
    "#X = df_features\n",
    "X = df\n",
    "y = df['Flag']\n",
    "X_train, X_test_final, y_train, y_test_final = train_test_split(X, y, test_size=0.20)"
   ]
  },
  {
   "cell_type": "code",
   "execution_count": 52,
   "metadata": {
    "collapsed": true
   },
   "outputs": [],
   "source": [
    "#Should stratify the test set of CV too, before resampling: http://www.alfredo.motta.name/cross-validation-done-wrong/\n",
    "def stratified_rf(X_train, y_train,n_folds=2,max_features=\"sqrt\",n_estimators=500,leaf_size=20):\n",
    "    kf = cross_validation.StratifiedKFold(y_train, n_folds=n_folds)\n",
    "    fold_count = 0\n",
    "    accuracy = pd.Series()\n",
    "    recall = pd.Series()\n",
    "    precision = pd.Series()\n",
    "    actual = pd.Series()\n",
    "    prediction_prob = pd.Series()\n",
    "    prediction_actual = pd.Series()\n",
    "    test_features = pd.DataFrame()\n",
    "    for train, test in kf:\n",
    "        print(\"Processing fold %s\" % fold_count)\n",
    "        X_train_fold_all = X_train.iloc[train]\n",
    "        X_test_fold_all = X_train.iloc[test]\n",
    "        y_train_fold = y_train.iloc[train]\n",
    "        y_test_fold = y_train.iloc[test]\n",
    "        y_train_fold = np.array(y_train_fold,dtype=np.int8)\n",
    "        features = ['PRECIP1HOUR', 'RELATIVEHUMIDITY', 'SNOW1HOUR', 'TEMPERATURE',\n",
    "       'TEMPERATUREDEWPOINT', 'TEMPERATUREFEELSLIKE', 'VISIBILITY','SNOWDRIFTINDEX','BLACKICEINDEX',\n",
    "       'WINDSPEED','WINDGUST','BLIZZARD','FOG', \"NonWeatherRisk\", 'sin_HOUR','cos_HOUR','sin_YEAR_DAY','cos_YEAR_DAY',\n",
    "            'sin_MONTH','cos_MONTH','PRECIP2HOUR','SNOW2HOUR']\n",
    "        X_train_fold=X_train_fold_all[features]\n",
    "        X_test_fold=X_test_fold_all[features]\n",
    "        #Do resampling on training, not on testing\n",
    "        bc = BalanceCascade()\n",
    "        X_resampled, y_resampled = bc.fit_sample(X_train_fold, y_train_fold)\n",
    "        X_resampled=X_resampled.reshape(1, X_resampled.shape[0]*X_resampled.shape[1], -1)\n",
    "        y_resampled=y_resampled.reshape(1, y_resampled.shape[0]*y_resampled.shape[1], -1)\n",
    "        \n",
    "        X_train_fold = pd.DataFrame(data=X_resampled[0],columns=X_train_fold.columns)\n",
    "        y_train_fold = y_resampled[0]\n",
    "        \n",
    "        #Train the model\n",
    "        clf = RandomForestClassifier(n_jobs=-1, random_state=0,max_features=max_features,n_estimators=n_estimators,\n",
    "                                   max_depth=5,class_weight={0:1,1:1.1})\n",
    "        #kernel = 'linear'\n",
    "        #clf = svm.SVC(kernel=kernel, gamma=2)\n",
    "        clf.fit(X_train_fold, y_train_fold.ravel())\n",
    "        \n",
    "        #Make predictions\n",
    "        y_pred_fold=clf.predict(X_test_fold)\n",
    "        y_pred_proba = clf.predict_proba(X_test_fold)[::,1]\n",
    "        \n",
    "        #Get accuracy, recall and precision\n",
    "        accuracy = recall.append(pd.Series(metrics.accuracy_score(y_test_fold, y_pred_fold)))\n",
    "        recall = recall.append(pd.Series(metrics.recall_score(y_test_fold, y_pred_fold)))\n",
    "        precision = precision.append(pd.Series(metrics.precision_score(y_test_fold, y_pred_fold)))\n",
    "        prediction_prob = prediction_prob.append(pd.Series(y_pred_proba))\n",
    "        prediction_actual = prediction_actual.append(pd.Series(y_pred_fold))\n",
    "        actual = actual.append(pd.Series(y_test_fold))\n",
    "        test_features = test_features.append(X_test_fold_all)\n",
    "        # Done with the fold\n",
    "        fold_count += 1\n",
    "    \n",
    "    return recall, precision, accuracy, prediction_prob, prediction_actual, actual, test_features\n",
    "        "
   ]
  },
  {
   "cell_type": "code",
   "execution_count": 61,
   "metadata": {},
   "outputs": [
    {
     "name": "stdout",
     "output_type": "stream",
     "text": [
      "Processing fold 0\n",
      "Processing fold 1\n",
      "Processing fold 2\n",
      "Processing fold 3\n",
      "Processing fold 4\n",
      "Recall: 0    0.794499\n",
      "dtype: float64\n",
      "Precision: 0    0.011442\n",
      "dtype: float64\n",
      "Accuracy: 0    0.783206\n",
      "dtype: float64\n"
     ]
    }
   ],
   "source": [
    "#recall, precision, accuracy, prediction_prob, prediction_actual, actual = stratified_rf(X_train, y_train,n_folds=2,max_features=\"sqrt\",n_estimators=1000)\n",
    "recall, precision, accuracy, prediction_prob, prediction_actual, actual, test_features = stratified_rf(X, y,n_folds=5,max_features=\"log2\",n_estimators=500)\n",
    "print(\"Recall: %s\" % pd.DataFrame(recall).mean())\n",
    "print(\"Precision: %s\" % pd.DataFrame(precision).mean())\n",
    "print(\"Accuracy: %s\" % pd.DataFrame(accuracy).mean())"
   ]
  },
  {
   "cell_type": "code",
   "execution_count": 62,
   "metadata": {},
   "outputs": [
    {
     "name": "stdout",
     "output_type": "stream",
     "text": [
      "[[184683  26554]\n",
      " [    67    259]]\n",
      "             precision    recall  f1-score   support\n",
      "\n",
      "          0       1.00      0.87      0.93    211237\n",
      "          1       0.01      0.79      0.02       326\n",
      "\n",
      "avg / total       1.00      0.87      0.93    211563\n",
      "\n"
     ]
    },
    {
     "data": {
      "image/png": "[encoded data removed]",
      "text/plain": [
       "<matplotlib.figure.Figure at 0x1a38aa8eb8>"
      ]
     },
     "metadata": {},
     "output_type": "display_data"
    }
   ],
   "source": [
    "print(metrics.confusion_matrix(actual,prediction_actual))\n",
    "print(metrics.classification_report(actual, prediction_actual))\n",
    "min_max_scaler = preprocessing.MinMaxScaler()\n",
    "y_pred_proba_scaled = pd.DataFrame(min_max_scaler.fit_transform(pd.DataFrame(prediction_prob).values))[0]\n",
    "#y_pred_proba_scaled=prediction_prob\n",
    "fpr, tpr, threshold = metrics.roc_curve(actual, y_pred_proba_scaled)\n",
    "auc = metrics.roc_auc_score(actual, y_pred_proba_scaled)\n",
    "plt.plot(fpr,tpr,label=\"data, auc=\"+str(auc))\n",
    "plt.legend(loc=4)\n",
    "plt.show()"
   ]
  },
  {
   "cell_type": "code",
   "execution_count": 75,
   "metadata": {},
   "outputs": [
    {
     "name": "stdout",
     "output_type": "stream",
     "text": [
      "0.04122591759555907\n",
      "0.9268199181302602\n"
     ]
    }
   ],
   "source": [
    "print(min(prediction_prob))\n",
    "print(max(prediction_prob))"
   ]
  },
  {
   "cell_type": "code",
   "execution_count": 65,
   "metadata": {},
   "outputs": [],
   "source": [
    "results = pd.concat([pd.DataFrame(test_features).reset_index(drop=True), pd.DataFrame({'Risk Probability':prediction_prob}).reset_index(drop=True), pd.DataFrame({'Normalized Risk Probability':y_pred_proba_scaled}).reset_index(drop=True),pd.DataFrame({'Actual Risk Flag':actual}).reset_index(drop=True)], axis=1)\n",
    "results.to_csv(\"Predictions NonWeather.csv\", sep=',',index=False)\n",
    "#results"
   ]
  },
  {
   "cell_type": "code",
   "execution_count": null,
   "metadata": {
    "collapsed": true
   },
   "outputs": [],
   "source": [
    "f1=0\n",
    "threshold = 0\n",
    "for i in np.linspace(start=0, stop=0.6, num=100):\n",
    "    prediction_actual_update = np.where(prediction_prob>=i, 1, 0)\n",
    "    if(metrics.roc_auc_score(actual, prediction_actual_update)>f1):\n",
    "        f1=metrics.roc_auc_score(actual, prediction_actual_update)\n",
    "        threshold = i\n",
    "print(\"roc_auc: \",f1,\"Threshold: \", threshold)\n",
    "prediction_THRESHOLD = np.where(prediction_prob>=threshold, 1, 0)\n",
    "print(metrics.confusion_matrix(actual,prediction_THRESHOLD))\n",
    "print(metrics.classification_report(actual, prediction_THRESHOLD))\n",
    "print(\"Accuracy\", metrics.accuracy_score(actual, prediction_THRESHOLD))\n",
    "print(\"Recall\", metrics.recall_score(actual, prediction_THRESHOLD))\n",
    "print(\"Precision\", metrics.precision_score(actual, prediction_THRESHOLD))"
   ]
  },
  {
   "cell_type": "code",
   "execution_count": null,
   "metadata": {
    "collapsed": true
   },
   "outputs": [],
   "source": [
    "# Create a random forest Classifier on the complete training dataset\n",
    "bc = BalanceCascade()\n",
    "X_train = df_features\n",
    "y_train = df['Flag']\n",
    "y_train = np.array(y_train,dtype=np.int8)\n",
    "X_resampled, y_resampled = bc.fit_sample(X_train, y_train)\n",
    "X_resampled=X_resampled.reshape(1, X_resampled.shape[0]*X_resampled.shape[1], -1)\n",
    "y_resampled=y_resampled.reshape(1, y_resampled.shape[0]*y_resampled.shape[1], -1)\n",
    "        \n",
    "X_train_resampled = pd.DataFrame(data=X_resampled[0],columns=X_train.columns)\n",
    "y_train_resampled = y_resampled[0]\n",
    "clf = RandomForestClassifier(n_jobs=-1, random_state=0,max_features=\"log2\",n_estimators=1000,\n",
    "                            max_depth=5,class_weight={0:1,1:1.1})\n",
    "clf.fit(X_train_resampled, y_train_resampled.ravel())\n",
    "predRF=clf.predict(X_test_final)\n",
    "predRF_proba = clf.predict_proba(X_test_final)[::,1]\n",
    "print(\"Accuracy\", metrics.accuracy_score(y_test_final, predRF))\n",
    "print(\"Recall\", metrics.recall_score(y_test_final, predRF))\n",
    "print(metrics.confusion_matrix(y_test_final,predRF))\n",
    "print(metrics.classification_report(y_test_final, predRF))\n",
    "\n",
    "#changed threshold\n",
    "prediction_THRESHOLD = np.where(predRF_proba>=threshold, 1, 0)\n",
    "print(metrics.confusion_matrix(y_test_final,prediction_THRESHOLD))\n",
    "print(\"Accuracy\", metrics.accuracy_score(y_test_final, prediction_THRESHOLD))\n",
    "print(\"Recall\", metrics.recall_score(y_test_final, prediction_THRESHOLD))\n",
    "print(\"Precision\", metrics.precision_score(y_test_final, prediction_THRESHOLD))"
   ]
  },
  {
   "cell_type": "code",
   "execution_count": 71,
   "metadata": {},
   "outputs": [
    {
     "data": {
      "text/plain": [
       "RandomForestClassifier(bootstrap=True, class_weight={0: 1, 1: 1.1},\n",
       "            criterion='gini', max_depth=5, max_features='log2',\n",
       "            max_leaf_nodes=None, min_impurity_decrease=0.0,\n",
       "            min_impurity_split=None, min_samples_leaf=1,\n",
       "            min_samples_split=2, min_weight_fraction_leaf=0.0,\n",
       "            n_estimators=1000, n_jobs=-1, oob_score=False, random_state=0,\n",
       "            verbose=0, warm_start=False)"
      ]
     },
     "execution_count": 71,
     "metadata": {},
     "output_type": "execute_result"
    }
   ],
   "source": [
    "# FINAL MODEL on COMPLETE DATA\n",
    "bc = BalanceCascade()\n",
    "X = df_features\n",
    "y = np.array(y,dtype=np.int8)\n",
    "X_resampled, y_resampled = bc.fit_sample(X, y)\n",
    "X_resampled=X_resampled.reshape(1, X_resampled.shape[0]*X_resampled.shape[1], -1)\n",
    "y_resampled=y_resampled.reshape(1, y_resampled.shape[0]*y_resampled.shape[1], -1)\n",
    "        \n",
    "X_resampled = pd.DataFrame(data=X_resampled[0],columns=X.columns)\n",
    "y_resampled = y_resampled[0]\n",
    "clf = RandomForestClassifier(n_jobs=-1, random_state=0,max_features=\"log2\",n_estimators=1000,\n",
    "                            max_depth=5,class_weight={0:1,1:1.1})\n",
    "clf.fit(X_resampled, y_resampled.ravel())"
   ]
  },
  {
   "cell_type": "code",
   "execution_count": 74,
   "metadata": {},
   "outputs": [
    {
     "data": {
      "text/plain": [
       "['MC-UnderSampled-RandomForest-NonWeatherFeature.sav']"
      ]
     },
     "execution_count": 74,
     "metadata": {},
     "output_type": "execute_result"
    }
   ],
   "source": [
    "# save the model to disk\n",
    "filename = 'MC-UnderSampled-RandomForest-NonWeatherFeature.sav'\n",
    "joblib.dump(clf, filename)\n",
    "\n",
    "# load the model from disk\n",
    "#loaded_model = joblib.load(filename)\n",
    "#result = loaded_model.score(X_test, Y_test)\n",
    "#print(result)"
   ]
  },
  {
   "cell_type": "code",
   "execution_count": 72,
   "metadata": {},
   "outputs": [
    {
     "data": {
      "image/png": "[encoded data removed]",
      "text/plain": [
       "<matplotlib.figure.Figure at 0x1a381e4828>"
      ]
     },
     "metadata": {},
     "output_type": "display_data"
    }
   ],
   "source": [
    "features = df_features.columns.values\n",
    "importances = clf.feature_importances_\n",
    "indices = np.argsort(importances)\n",
    "plt.rcParams['figure.figsize'] = [10, 5]\n",
    "\n",
    "plt.title('Feature Importances')\n",
    "plt.barh(range(len(indices)), importances[indices], color='b', align='center')\n",
    "plt.yticks(range(len(indices)), features[indices])\n",
    "plt.xlabel('Relative Importance')\n",
    "plt.show()\n",
    "\n"
   ]
  },
  {
   "cell_type": "code",
   "execution_count": 86,
   "metadata": {
    "scrolled": true
   },
   "outputs": [
    {
     "data": {
      "image/png": "[encoded data removed]",
      "text/plain": [
       "<matplotlib.figure.Figure at 0x1a30795860>"
      ]
     },
     "metadata": {},
     "output_type": "display_data"
    }
   ],
   "source": [
    "num_bins = 10\n",
    "x=results[results[\"Actual Risk Flag\"]==1]\n",
    "x=x['Normalized Risk Probability']\n",
    "n, bins, patches = plt.hist(x, num_bins, facecolor='blue')\n",
    "plt.show()"
   ]
  },
  {
   "cell_type": "code",
   "execution_count": 87,
   "metadata": {},
   "outputs": [
    {
     "data": {
      "text/plain": [
       "array([ 0.07728368,  0.16577867,  0.25427367,  0.34276866,  0.43126365,\n",
       "        0.51975865,  0.60825364,  0.69674864,  0.78524363,  0.87373863,\n",
       "        0.96223362])"
      ]
     },
     "execution_count": 87,
     "metadata": {},
     "output_type": "execute_result"
    }
   ],
   "source": [
    "bins"
   ]
  },
  {
   "cell_type": "code",
   "execution_count": 66,
   "metadata": {},
   "outputs": [
    {
     "data": {
      "text/plain": [
       "HOUR\n",
       "0     0.805852\n",
       "1     0.746834\n",
       "2     0.752618\n",
       "3     0.740791\n",
       "4     0.851795\n",
       "5     0.839847\n",
       "6     0.790753\n",
       "7     0.917382\n",
       "8     0.967907\n",
       "9     0.952579\n",
       "10    0.950326\n",
       "11    0.946182\n",
       "12    0.951114\n",
       "13    0.952688\n",
       "14    0.961919\n",
       "15    0.962715\n",
       "16    0.959388\n",
       "17    0.929524\n",
       "18    0.915157\n",
       "19    0.911121\n",
       "20    0.905686\n",
       "21    0.893752\n",
       "22    0.910023\n",
       "23    0.903779\n",
       "Name: Normalized Risk Probability, dtype: float64"
      ]
     },
     "execution_count": 66,
     "metadata": {},
     "output_type": "execute_result"
    }
   ],
   "source": [
    "results[\"Prediction\"] = 0\n",
    "results.loc[(results['Normalized Risk Probability']>0.95),\"Prediction\"]=1\n",
    "city = results[(round(results[\"LATITUDE\"],0)==48) & (round(results[\"LONGITUDE\"],0)==-123)]\n",
    "rural = results[(round(results[\"LATITUDE\"],0)==50) & (round(results[\"LONGITUDE\"],0)==-125)]\n",
    "city.groupby([\"HOUR\"]).Flag.sum()\n",
    "city.groupby([\"HOUR\"]).max()['Normalized Risk Probability']"
   ]
  },
  {
   "cell_type": "code",
   "execution_count": 67,
   "metadata": {},
   "outputs": [
    {
     "data": {
      "image/png": "[encoded data removed]",
      "text/plain": [
       "<matplotlib.figure.Figure at 0x1a385adef0>"
      ]
     },
     "metadata": {},
     "output_type": "display_data"
    }
   ],
   "source": [
    "from numpy import *\n",
    "import math\n",
    "import matplotlib.pyplot as plt\n",
    "\n",
    "t = linspace(0, 23, 24)\n",
    "\n",
    "plt.plot(t, city.groupby([\"HOUR\"]).mean()['Normalized Risk Probability'], 'r') # plotting t, a separately \n",
    "#plt.plot(t, city.groupby([\"HOUR\"]).max()['Normalized Risk Probability'], 'b') # plotting t, a separately \n",
    "#plt.plot(t, city.groupby([\"HOUR\"]).Flag.mean(), 'g') # plotting t, c separately \n",
    "plt.plot(t, city.groupby([\"HOUR\"]).Flag.max(), 'o') # plotting t, a separately \n",
    "plt.show()"
   ]
  },
  {
   "cell_type": "code",
   "execution_count": 68,
   "metadata": {},
   "outputs": [
    {
     "data": {
      "image/png": "[encoded data removed]",
      "text/plain": [
       "<matplotlib.figure.Figure at 0x1a38559240>"
      ]
     },
     "metadata": {},
     "output_type": "display_data"
    }
   ],
   "source": [
    "from numpy import *\n",
    "import math\n",
    "import matplotlib.pyplot as plt\n",
    "\n",
    "t = linspace(0, 23, 24)\n",
    "\n",
    "plt.plot(t, rural.groupby([\"HOUR\"]).mean()['Normalized Risk Probability'], 'r') # plotting t, b separately \n",
    "#plt.plot(t, rural.groupby([\"HOUR\"]).max()['Normalized Risk Probability'], 'm') # plotting t, b separately \n",
    "#plt.plot(t, rural.groupby([\"HOUR\"]).Flag.mean(), 'g') # plotting t, c separately \n",
    "plt.plot(t, rural.groupby([\"HOUR\"]).Flag.max(), 'o') # plotting t, a separately \n",
    "\n",
    "plt.show()"
   ]
  },
  {
   "cell_type": "code",
   "execution_count": null,
   "metadata": {
    "collapsed": true
   },
   "outputs": [],
   "source": []
  }
 ],
 "metadata": {
  "kernelspec": {
   "display_name": "Python 3",
   "language": "python",
   "name": "python3"
  },
  "language_info": {
   "codemirror_mode": {
    "name": "ipython",
    "version": 3
   },
   "file_extension": ".py",
   "mimetype": "text/x-python",
   "name": "python",
   "nbconvert_exporter": "python",
   "pygments_lexer": "ipython3",
   "version": "3.6.1"
  }
 },
 "nbformat": 4,
 "nbformat_minor": 2
}
